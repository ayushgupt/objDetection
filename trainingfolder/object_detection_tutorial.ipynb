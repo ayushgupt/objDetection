{
 "cells": [
  {
   "cell_type": "markdown",
   "metadata": {
    "colab_type": "text",
    "id": "V8-yl-s-WKMG"
   },
   "source": [
    "# Object Detection Demo\n",
    "Welcome to the object detection inference walkthrough!  This notebook will walk you step by step through the process of using a pre-trained model to detect objects in an image. Make sure to follow the [installation instructions](https://github.com/tensorflow/models/blob/master/research/object_detection/g3doc/installation.md) before you start."
   ]
  },
  {
   "cell_type": "code",
   "execution_count": 1,
   "metadata": {},
   "outputs": [],
   "source": [
    "!export PYTHONPATH=$PYTHONPATH:/home/satbigvm/cleanedDataset/objDetection/models/research:/home/satbigvm/cleanedDataset/objDetection/models/research/slim"
   ]
  },
  {
   "cell_type": "markdown",
   "metadata": {
    "colab_type": "text",
    "id": "kFSqkTCdWKMI"
   },
   "source": [
    "# Imports"
   ]
  },
  {
   "cell_type": "code",
   "execution_count": 2,
   "metadata": {
    "colab": {
     "autoexec": {
      "startup": false,
      "wait_interval": 0
     }
    },
    "colab_type": "code",
    "id": "hV4P5gyTWKMI"
   },
   "outputs": [],
   "source": [
    "import numpy as np\n",
    "import os\n",
    "import six.moves.urllib as urllib\n",
    "import sys\n",
    "import tarfile\n",
    "import tensorflow as tf\n",
    "import zipfile\n",
    "\n",
    "\n",
    "from distutils.version import StrictVersion\n",
    "from collections import defaultdict\n",
    "from io import StringIO\n",
    "from matplotlib import pyplot as plt\n",
    "from PIL import Image\n",
    "\n",
    "# This is needed since the notebook is stored in the object_detection folder.\n",
    "# sys.path.append(\"..\")\n",
    "# from tf import object_detection\n",
    "from object_detection.utils import ops as utils_ops\n",
    "\n",
    "if StrictVersion(tf.__version__) < StrictVersion('1.9.0'):\n",
    "  raise ImportError('Please upgrade your TensorFlow installation to v1.9.* or later!')\n"
   ]
  },
  {
   "cell_type": "markdown",
   "metadata": {
    "colab_type": "text",
    "id": "Wy72mWwAWKMK"
   },
   "source": [
    "## Env setup"
   ]
  },
  {
   "cell_type": "code",
   "execution_count": 3,
   "metadata": {
    "colab": {
     "autoexec": {
      "startup": false,
      "wait_interval": 0
     }
    },
    "colab_type": "code",
    "id": "v7m_NY_aWKMK"
   },
   "outputs": [],
   "source": [
    "# This is needed to display the images.\n",
    "%matplotlib inline"
   ]
  },
  {
   "cell_type": "markdown",
   "metadata": {
    "colab_type": "text",
    "id": "r5FNuiRPWKMN"
   },
   "source": [
    "## Object detection imports\n",
    "Here are the imports from the object detection module."
   ]
  },
  {
   "cell_type": "code",
   "execution_count": 5,
   "metadata": {
    "colab": {
     "autoexec": {
      "startup": false,
      "wait_interval": 0
     }
    },
    "colab_type": "code",
    "id": "bm0_uNRnWKMN"
   },
   "outputs": [
    {
     "name": "stderr",
     "output_type": "stream",
     "text": [
      "/home/satbigvm/cleanedDataset/objDetection/models/research/object_detection/utils/visualization_utils.py:26: UserWarning: \n",
      "This call to matplotlib.use() has no effect because the backend has already\n",
      "been chosen; matplotlib.use() must be called *before* pylab, matplotlib.pyplot,\n",
      "or matplotlib.backends is imported for the first time.\n",
      "\n",
      "The backend was *originally* set to 'module://ipykernel.pylab.backend_inline' by the following code:\n",
      "  File \"/home/satbigvm/anaconda3/lib/python3.6/runpy.py\", line 193, in _run_module_as_main\n",
      "    \"__main__\", mod_spec)\n",
      "  File \"/home/satbigvm/anaconda3/lib/python3.6/runpy.py\", line 85, in _run_code\n",
      "    exec(code, run_globals)\n",
      "  File \"/home/satbigvm/anaconda3/lib/python3.6/site-packages/ipykernel_launcher.py\", line 16, in <module>\n",
      "    app.launch_new_instance()\n",
      "  File \"/home/satbigvm/anaconda3/lib/python3.6/site-packages/traitlets/config/application.py\", line 658, in launch_instance\n",
      "    app.start()\n",
      "  File \"/home/satbigvm/anaconda3/lib/python3.6/site-packages/ipykernel/kernelapp.py\", line 505, in start\n",
      "    self.io_loop.start()\n",
      "  File \"/home/satbigvm/anaconda3/lib/python3.6/site-packages/tornado/platform/asyncio.py\", line 132, in start\n",
      "    self.asyncio_loop.run_forever()\n",
      "  File \"/home/satbigvm/anaconda3/lib/python3.6/asyncio/base_events.py\", line 438, in run_forever\n",
      "    self._run_once()\n",
      "  File \"/home/satbigvm/anaconda3/lib/python3.6/asyncio/base_events.py\", line 1451, in _run_once\n",
      "    handle._run()\n",
      "  File \"/home/satbigvm/anaconda3/lib/python3.6/asyncio/events.py\", line 145, in _run\n",
      "    self._callback(*self._args)\n",
      "  File \"/home/satbigvm/anaconda3/lib/python3.6/site-packages/tornado/ioloop.py\", line 758, in _run_callback\n",
      "    ret = callback()\n",
      "  File \"/home/satbigvm/anaconda3/lib/python3.6/site-packages/tornado/stack_context.py\", line 300, in null_wrapper\n",
      "    return fn(*args, **kwargs)\n",
      "  File \"/home/satbigvm/anaconda3/lib/python3.6/site-packages/tornado/gen.py\", line 1233, in inner\n",
      "    self.run()\n",
      "  File \"/home/satbigvm/anaconda3/lib/python3.6/site-packages/tornado/gen.py\", line 1147, in run\n",
      "    yielded = self.gen.send(value)\n",
      "  File \"/home/satbigvm/anaconda3/lib/python3.6/site-packages/ipykernel/kernelbase.py\", line 357, in process_one\n",
      "    yield gen.maybe_future(dispatch(*args))\n",
      "  File \"/home/satbigvm/anaconda3/lib/python3.6/site-packages/tornado/gen.py\", line 326, in wrapper\n",
      "    yielded = next(result)\n",
      "  File \"/home/satbigvm/anaconda3/lib/python3.6/site-packages/ipykernel/kernelbase.py\", line 267, in dispatch_shell\n",
      "    yield gen.maybe_future(handler(stream, idents, msg))\n",
      "  File \"/home/satbigvm/anaconda3/lib/python3.6/site-packages/tornado/gen.py\", line 326, in wrapper\n",
      "    yielded = next(result)\n",
      "  File \"/home/satbigvm/anaconda3/lib/python3.6/site-packages/ipykernel/kernelbase.py\", line 534, in execute_request\n",
      "    user_expressions, allow_stdin,\n",
      "  File \"/home/satbigvm/anaconda3/lib/python3.6/site-packages/tornado/gen.py\", line 326, in wrapper\n",
      "    yielded = next(result)\n",
      "  File \"/home/satbigvm/anaconda3/lib/python3.6/site-packages/ipykernel/ipkernel.py\", line 294, in do_execute\n",
      "    res = shell.run_cell(code, store_history=store_history, silent=silent)\n",
      "  File \"/home/satbigvm/anaconda3/lib/python3.6/site-packages/ipykernel/zmqshell.py\", line 536, in run_cell\n",
      "    return super(ZMQInteractiveShell, self).run_cell(*args, **kwargs)\n",
      "  File \"/home/satbigvm/anaconda3/lib/python3.6/site-packages/IPython/core/interactiveshell.py\", line 2843, in run_cell\n",
      "    raw_cell, store_history, silent, shell_futures)\n",
      "  File \"/home/satbigvm/anaconda3/lib/python3.6/site-packages/IPython/core/interactiveshell.py\", line 2869, in _run_cell\n",
      "    return runner(coro)\n",
      "  File \"/home/satbigvm/anaconda3/lib/python3.6/site-packages/IPython/core/async_helpers.py\", line 67, in _pseudo_sync_runner\n",
      "    coro.send(None)\n",
      "  File \"/home/satbigvm/anaconda3/lib/python3.6/site-packages/IPython/core/interactiveshell.py\", line 3044, in run_cell_async\n",
      "    interactivity=interactivity, compiler=compiler, result=result)\n",
      "  File \"/home/satbigvm/anaconda3/lib/python3.6/site-packages/IPython/core/interactiveshell.py\", line 3215, in run_ast_nodes\n",
      "    if (yield from self.run_code(code, result)):\n",
      "  File \"/home/satbigvm/anaconda3/lib/python3.6/site-packages/IPython/core/interactiveshell.py\", line 3291, in run_code\n",
      "    exec(code_obj, self.user_global_ns, self.user_ns)\n",
      "  File \"<ipython-input-3-0f0a85121700>\", line 2, in <module>\n",
      "    get_ipython().run_line_magic('matplotlib', 'inline')\n",
      "  File \"/home/satbigvm/anaconda3/lib/python3.6/site-packages/IPython/core/interactiveshell.py\", line 2307, in run_line_magic\n",
      "    result = fn(*args, **kwargs)\n",
      "  File \"</home/satbigvm/anaconda3/lib/python3.6/site-packages/decorator.py:decorator-gen-108>\", line 2, in matplotlib\n",
      "  File \"/home/satbigvm/anaconda3/lib/python3.6/site-packages/IPython/core/magic.py\", line 187, in <lambda>\n",
      "    call = lambda f, *a, **k: f(*a, **k)\n",
      "  File \"/home/satbigvm/anaconda3/lib/python3.6/site-packages/IPython/core/magics/pylab.py\", line 99, in matplotlib\n",
      "    gui, backend = self.shell.enable_matplotlib(args.gui)\n",
      "  File \"/home/satbigvm/anaconda3/lib/python3.6/site-packages/IPython/core/interactiveshell.py\", line 3379, in enable_matplotlib\n",
      "    pt.activate_matplotlib(backend)\n",
      "  File \"/home/satbigvm/anaconda3/lib/python3.6/site-packages/IPython/core/pylabtools.py\", line 314, in activate_matplotlib\n",
      "    matplotlib.pyplot.switch_backend(backend)\n",
      "  File \"/home/satbigvm/.local/lib/python3.6/site-packages/matplotlib/pyplot.py\", line 231, in switch_backend\n",
      "    matplotlib.use(newbackend, warn=False, force=True)\n",
      "  File \"/home/satbigvm/.local/lib/python3.6/site-packages/matplotlib/__init__.py\", line 1410, in use\n",
      "    reload(sys.modules['matplotlib.backends'])\n",
      "  File \"/home/satbigvm/anaconda3/lib/python3.6/importlib/__init__.py\", line 166, in reload\n",
      "    _bootstrap._exec(spec, module)\n",
      "  File \"/home/satbigvm/.local/lib/python3.6/site-packages/matplotlib/backends/__init__.py\", line 16, in <module>\n",
      "    line for line in traceback.format_stack()\n",
      "\n",
      "\n",
      "  import matplotlib; matplotlib.use('Agg')  # pylint: disable=multiple-statements\n"
     ]
    }
   ],
   "source": [
    "from object_detection.utils import label_map_util\n",
    "# from protos import string_int_label_map_pb2\n",
    "from object_detection.utils import visualization_utils as vis_util"
   ]
  },
  {
   "cell_type": "markdown",
   "metadata": {
    "colab_type": "text",
    "id": "cfn_tRFOWKMO"
   },
   "source": [
    "# Model preparation "
   ]
  },
  {
   "cell_type": "markdown",
   "metadata": {
    "colab_type": "text",
    "id": "X_sEBLpVWKMQ"
   },
   "source": [
    "## Variables\n",
    "\n",
    "Any model exported using the `export_inference_graph.py` tool can be loaded here simply by changing `PATH_TO_FROZEN_GRAPH` to point to a new .pb file.  \n",
    "\n",
    "By default we use an \"SSD with Mobilenet\" model here. See the [detection model zoo](https://github.com/tensorflow/models/blob/master/research/object_detection/g3doc/detection_model_zoo.md) for a list of other models that can be run out-of-the-box with varying speeds and accuracies."
   ]
  },
  {
   "cell_type": "code",
   "execution_count": 11,
   "metadata": {
    "colab": {
     "autoexec": {
      "startup": false,
      "wait_interval": 0
     }
    },
    "colab_type": "code",
    "id": "VyPz_t8WWKMQ"
   },
   "outputs": [],
   "source": [
    "# What model to download.\n",
    "MODEL_NAME = 'fine_tuned_model_996/'\n",
    "# MODEL_FILE = MODEL_NAME + '.tar.gz'\n",
    "# DOWNLOAD_BASE = 'http://download.tensorflow.org/models/object_detection/'\n",
    "\n",
    "# Path to frozen detection graph. This is the actual model that is used for the object detection.\n",
    "PATH_TO_FROZEN_GRAPH = MODEL_NAME + '/frozen_inference_graph.pb'\n",
    "\n",
    "# List of the strings that is used to add correct label for each box.\n",
    "PATH_TO_LABELS = os.path.join('data', 'my_label_map.pbtxt')"
   ]
  },
  {
   "cell_type": "code",
   "execution_count": 12,
   "metadata": {},
   "outputs": [
    {
     "name": "stdout",
     "output_type": "stream",
     "text": [
      "checkpoint\t\t\tmodel.ckpt.index  saved_model\n",
      "frozen_inference_graph.pb\tmodel.ckpt.meta\n",
      "model.ckpt.data-00000-of-00001\tpipeline.config\n",
      "new\n",
      "my_label_map.pbtxt  test.record  train.record\n"
     ]
    }
   ],
   "source": [
    "!ls fine_tuned_model_996\n",
    "!echo \"new\"\n",
    "!ls data"
   ]
  },
  {
   "cell_type": "markdown",
   "metadata": {
    "colab_type": "text",
    "id": "7ai8pLZZWKMS"
   },
   "source": [
    "## Download Model"
   ]
  },
  {
   "cell_type": "code",
   "execution_count": 14,
   "metadata": {
    "colab": {
     "autoexec": {
      "startup": false,
      "wait_interval": 0
     }
    },
    "colab_type": "code",
    "id": "KILYnwR5WKMS"
   },
   "outputs": [],
   "source": [
    "# opener = urllib.request.URLopener()\n",
    "# opener.retrieve(DOWNLOAD_BASE + MODEL_FILE, MODEL_FILE)\n",
    "# tar_file = tarfile.open(MODEL_FILE)\n",
    "# for file in tar_file.getmembers():\n",
    "#   file_name = os.path.basename(file.name)\n",
    "#   if 'frozen_inference_graph.pb' in file_name:\n",
    "#     tar_file.extract(file, os.getcwd())"
   ]
  },
  {
   "cell_type": "markdown",
   "metadata": {
    "colab_type": "text",
    "id": "YBcB9QHLWKMU"
   },
   "source": [
    "## Load a (frozen) Tensorflow model into memory."
   ]
  },
  {
   "cell_type": "code",
   "execution_count": 15,
   "metadata": {
    "colab": {
     "autoexec": {
      "startup": false,
      "wait_interval": 0
     }
    },
    "colab_type": "code",
    "id": "KezjCRVvWKMV"
   },
   "outputs": [],
   "source": [
    "detection_graph = tf.Graph()\n",
    "with detection_graph.as_default():\n",
    "  od_graph_def = tf.GraphDef()\n",
    "  with tf.gfile.GFile(PATH_TO_FROZEN_GRAPH, 'rb') as fid:\n",
    "    serialized_graph = fid.read()\n",
    "    od_graph_def.ParseFromString(serialized_graph)\n",
    "    tf.import_graph_def(od_graph_def, name='')"
   ]
  },
  {
   "cell_type": "markdown",
   "metadata": {
    "colab_type": "text",
    "id": "_1MVVTcLWKMW"
   },
   "source": [
    "## Loading label map\n",
    "Label maps map indices to category names, so that when our convolution network predicts `5`, we know that this corresponds to `airplane`.  Here we use internal utility functions, but anything that returns a dictionary mapping integers to appropriate string labels would be fine"
   ]
  },
  {
   "cell_type": "code",
   "execution_count": 16,
   "metadata": {
    "colab": {
     "autoexec": {
      "startup": false,
      "wait_interval": 0
     }
    },
    "colab_type": "code",
    "id": "hDbpHkiWWKMX"
   },
   "outputs": [],
   "source": [
    "category_index = label_map_util.create_category_index_from_labelmap(PATH_TO_LABELS, use_display_name=True)"
   ]
  },
  {
   "cell_type": "markdown",
   "metadata": {
    "colab_type": "text",
    "id": "EFsoUHvbWKMZ"
   },
   "source": [
    "## Helper code"
   ]
  },
  {
   "cell_type": "code",
   "execution_count": 22,
   "metadata": {
    "colab": {
     "autoexec": {
      "startup": false,
      "wait_interval": 0
     }
    },
    "colab_type": "code",
    "id": "aSlYc3JkWKMa"
   },
   "outputs": [],
   "source": [
    "def load_image_into_numpy_array(image):\n",
    "  (im_width, im_height) = image.size\n",
    "  return np.array(image.getdata()).reshape(\n",
    "      (im_height, im_width, 3)).astype(np.uint8)"
   ]
  },
  {
   "cell_type": "markdown",
   "metadata": {
    "colab_type": "text",
    "id": "H0_1AGhrWKMc"
   },
   "source": [
    "# Detection"
   ]
  },
  {
   "cell_type": "code",
   "execution_count": 33,
   "metadata": {
    "colab": {
     "autoexec": {
      "startup": false,
      "wait_interval": 0
     }
    },
    "colab_type": "code",
    "id": "jG-zn5ykWKMd"
   },
   "outputs": [],
   "source": [
    "# For the sake of simplicity we will use only 2 images:\n",
    "# image1.jpg\n",
    "# image2.jpg\n",
    "# If you want to test the code with your images, just add path to the images to the TEST_IMAGE_PATHS.\n",
    "PATH_TO_TEST_IMAGES_DIR = '../data/img'\n",
    "TEST_IMAGE_PATHS = [ os.path.join(PATH_TO_TEST_IMAGES_DIR, 'dog_{}.jpg'.format(i)) for i in range(50, 56) ]\n",
    "\n",
    "# Size, in inches, of the output images.\n",
    "IMAGE_SIZE = (12, 8)"
   ]
  },
  {
   "cell_type": "code",
   "execution_count": 34,
   "metadata": {
    "colab": {
     "autoexec": {
      "startup": false,
      "wait_interval": 0
     }
    },
    "colab_type": "code",
    "id": "92BHxzcNWKMf"
   },
   "outputs": [],
   "source": [
    "def run_inference_for_single_image(image, graph):\n",
    "  with graph.as_default():\n",
    "    with tf.Session() as sess:\n",
    "      # Get handles to input and output tensors\n",
    "      ops = tf.get_default_graph().get_operations()\n",
    "      all_tensor_names = {output.name for op in ops for output in op.outputs}\n",
    "      tensor_dict = {}\n",
    "      for key in [\n",
    "          'num_detections', 'detection_boxes', 'detection_scores',\n",
    "          'detection_classes', 'detection_masks'\n",
    "      ]:\n",
    "        tensor_name = key + ':0'\n",
    "        if tensor_name in all_tensor_names:\n",
    "          tensor_dict[key] = tf.get_default_graph().get_tensor_by_name(\n",
    "              tensor_name)\n",
    "      if 'detection_masks' in tensor_dict:\n",
    "        # The following processing is only for single image\n",
    "        detection_boxes = tf.squeeze(tensor_dict['detection_boxes'], [0])\n",
    "        detection_masks = tf.squeeze(tensor_dict['detection_masks'], [0])\n",
    "        # Reframe is required to translate mask from box coordinates to image coordinates and fit the image size.\n",
    "        real_num_detection = tf.cast(tensor_dict['num_detections'][0], tf.int32)\n",
    "        detection_boxes = tf.slice(detection_boxes, [0, 0], [real_num_detection, -1])\n",
    "        detection_masks = tf.slice(detection_masks, [0, 0, 0], [real_num_detection, -1, -1])\n",
    "        detection_masks_reframed = utils_ops.reframe_box_masks_to_image_masks(\n",
    "            detection_masks, detection_boxes, image.shape[0], image.shape[1])\n",
    "        detection_masks_reframed = tf.cast(\n",
    "            tf.greater(detection_masks_reframed, 0.5), tf.uint8)\n",
    "        # Follow the convention by adding back the batch dimension\n",
    "        tensor_dict['detection_masks'] = tf.expand_dims(\n",
    "            detection_masks_reframed, 0)\n",
    "      image_tensor = tf.get_default_graph().get_tensor_by_name('image_tensor:0')\n",
    "\n",
    "      # Run inference\n",
    "      output_dict = sess.run(tensor_dict,\n",
    "                             feed_dict={image_tensor: np.expand_dims(image, 0)})\n",
    "\n",
    "      # all outputs are float32 numpy arrays, so convert types as appropriate\n",
    "      output_dict['num_detections'] = int(output_dict['num_detections'][0])\n",
    "      output_dict['detection_classes'] = output_dict[\n",
    "          'detection_classes'][0].astype(np.uint8)\n",
    "      output_dict['detection_boxes'] = output_dict['detection_boxes'][0]\n",
    "      output_dict['detection_scores'] = output_dict['detection_scores'][0]\n",
    "      if 'detection_masks' in output_dict:\n",
    "        output_dict['detection_masks'] = output_dict['detection_masks'][0]\n",
    "  return output_dict"
   ]
  },
  {
   "cell_type": "code",
   "execution_count": 37,
   "metadata": {
    "colab": {
     "autoexec": {
      "startup": false,
      "wait_interval": 0
     }
    },
    "colab_type": "code",
    "id": "3a5wMHN8WKMh"
   },
   "outputs": [
    {
     "name": "stdout",
     "output_type": "stream",
     "text": [
      "../data/img/dog_50.jpg\n",
      "[[5.7582557e-01 3.4376377e-01 8.5340166e-01 5.6554031e-01]\n",
      " [3.0145934e-01 7.7647614e-01 4.0239462e-01 8.6475027e-01]\n",
      " [2.3790002e-01 9.3892390e-01 3.4272945e-01 9.9188906e-01]\n",
      " [2.1885121e-01 3.1476289e-02 1.0000000e+00 2.8427258e-01]\n",
      " [1.9281964e-01 3.0224696e-01 2.7923280e-01 3.8548002e-01]\n",
      " [2.5345095e-02 7.7389807e-01 1.2804928e-01 8.4856349e-01]\n",
      " [2.0679213e-02 7.3521096e-01 1.2524480e-01 8.1046551e-01]\n",
      " [7.7437140e-02 7.8633124e-01 1.6576344e-01 8.5195667e-01]\n",
      " [0.0000000e+00 3.3697169e-03 6.3064449e-02 5.9417494e-02]\n",
      " [4.9254882e-01 1.7078313e-01 8.2424724e-01 2.9872906e-01]\n",
      " [3.4030181e-01 3.3979097e-01 8.5051507e-01 5.6497467e-01]\n",
      " [8.8539851e-01 8.8289762e-01 9.6625865e-01 9.5894647e-01]\n",
      " [2.3647626e-01 9.2255342e-01 5.6678617e-01 1.0000000e+00]\n",
      " [5.9870231e-01 3.4131420e-01 8.5920334e-01 5.5938131e-01]\n",
      " [5.8393598e-01 7.6191947e-02 9.4857514e-01 2.0235546e-01]\n",
      " [3.7483335e-01 5.3701842e-01 6.4927518e-01 6.8030536e-01]\n",
      " [1.5756601e-01 8.7151104e-01 4.5034915e-01 9.8637503e-01]\n",
      " [1.4292508e-01 3.0171034e-01 2.2495395e-01 3.8966653e-01]\n",
      " [5.8174723e-01 1.1994363e-01 9.4396061e-01 2.4993567e-01]\n",
      " [2.8054416e-01 9.3801928e-01 4.0170932e-01 9.9021411e-01]\n",
      " [0.0000000e+00 7.4979460e-01 2.5471523e-01 8.8076246e-01]\n",
      " [0.0000000e+00 7.0073581e-01 2.3998785e-01 8.3303559e-01]\n",
      " [8.6358801e-02 3.5759547e-01 1.7692722e-01 4.4359234e-01]\n",
      " [4.4145194e-01 5.7516491e-01 5.5152774e-01 6.5339684e-01]\n",
      " [5.9895027e-01 1.6997820e-01 9.2926252e-01 3.0445227e-01]\n",
      " [2.9753259e-01 8.2344210e-01 3.9239749e-01 9.0115094e-01]\n",
      " [1.6724367e-02 6.8897867e-01 1.1917511e-01 7.6107097e-01]\n",
      " [2.7712435e-01 4.3890920e-01 6.1301225e-01 5.5975854e-01]\n",
      " [3.2569535e-02 8.3870596e-01 1.2560910e-01 9.1127628e-01]\n",
      " [4.5202827e-01 4.7037268e-01 5.3413999e-01 5.4031837e-01]\n",
      " [2.0997377e-01 7.9154491e-01 4.7998512e-01 9.2292392e-01]\n",
      " [6.0087198e-01 4.4535285e-01 7.2628206e-01 5.3530121e-01]\n",
      " [1.6090214e-01 9.2016059e-01 4.7567767e-01 1.0000000e+00]\n",
      " [6.9677912e-02 8.4470159e-01 1.7178008e-01 9.0943593e-01]\n",
      " [6.8841982e-01 1.1102347e-01 9.9783206e-01 2.4073799e-01]\n",
      " [1.9090050e-01 2.6216200e-01 2.8400871e-01 3.4094796e-01]\n",
      " [4.4869882e-01 5.2078885e-01 5.3642440e-01 5.9475285e-01]\n",
      " [3.2851031e-01 9.3997973e-01 4.5838568e-01 9.9162334e-01]\n",
      " [1.3384649e-01 3.5460812e-01 2.1859792e-01 4.3752110e-01]\n",
      " [7.1055216e-01 8.5319385e-02 8.0516118e-01 1.6825686e-01]\n",
      " [9.0448484e-02 2.7077991e-01 3.8952726e-01 4.1193789e-01]\n",
      " [3.0113524e-01 5.8425266e-01 6.1299980e-01 7.1714610e-01]\n",
      " [3.3588842e-01 3.7952232e-01 6.6087890e-01 5.1192188e-01]\n",
      " [5.0389951e-01 4.5876852e-01 5.8858353e-01 5.3648543e-01]\n",
      " [0.0000000e+00 2.6802161e-01 2.7058870e-01 4.2104343e-01]\n",
      " [3.0467451e-01 4.9527758e-01 6.1918420e-01 6.2538320e-01]\n",
      " [4.6004650e-01 4.1860729e-01 5.3700179e-01 4.9134630e-01]\n",
      " [7.0341462e-01 3.3096337e-01 8.7595445e-01 5.9765303e-01]\n",
      " [0.0000000e+00 3.2306117e-01 2.6814380e-01 4.7186369e-01]\n",
      " [0.0000000e+00 1.1679344e-02 2.9291213e-01 1.5369645e-01]\n",
      " [6.9480442e-02 7.3709410e-01 1.5684536e-01 8.0504853e-01]\n",
      " [2.1433222e-01 4.9258918e-01 5.7588005e-01 6.0793561e-01]\n",
      " [4.7257715e-01 8.2679525e-02 6.2133557e-01 3.6942089e-01]\n",
      " [1.2326121e-02 0.0000000e+00 8.1678671e-01 2.6590458e-01]\n",
      " [6.4960593e-01 3.5376686e-01 7.7109188e-01 4.4275200e-01]\n",
      " [7.4259341e-02 9.3335956e-02 8.6803174e-01 4.6688536e-01]\n",
      " [3.5606295e-01 1.9611934e-01 4.3488652e-01 2.8124675e-01]\n",
      " [1.0774028e-02 4.0892884e-04 1.3201360e-01 4.6994701e-02]\n",
      " [4.4161379e-01 2.2079116e-01 7.7639949e-01 3.5096383e-01]\n",
      " [1.6378161e-01 2.8116930e-01 6.6830111e-01 6.3803899e-01]\n",
      " [2.4724911e-01 8.7606937e-01 5.3939968e-01 9.7610646e-01]\n",
      " [5.8377963e-01 2.8066553e-02 9.4673985e-01 1.4626959e-01]\n",
      " [9.4080931e-01 8.8566476e-01 1.0000000e+00 9.4982880e-01]\n",
      " [0.0000000e+00 9.3876886e-01 5.7652853e-02 1.0000000e+00]\n",
      " [2.4230254e-01 2.6041096e-01 3.2957220e-01 3.3916318e-01]\n",
      " [5.8393598e-01 7.6191947e-02 9.4857514e-01 2.0235546e-01]\n",
      " [6.4536393e-01 4.4943494e-01 7.7182078e-01 5.3796875e-01]\n",
      " [4.1757539e-01 3.8466617e-02 9.8227859e-01 3.5200202e-01]\n",
      " [8.7000728e-02 3.0524826e-01 1.7345896e-01 3.9306319e-01]\n",
      " [2.4089566e-01 7.4472445e-01 4.9837795e-01 8.7804562e-01]\n",
      " [4.9379587e-01 1.1636613e-01 8.2307792e-01 2.5404358e-01]\n",
      " [7.4179137e-01 2.1575950e-02 1.0000000e+00 1.4522991e-01]\n",
      " [5.5570489e-01 4.5685768e-01 6.5782255e-01 5.4728663e-01]\n",
      " [3.2870304e-02 8.8567460e-01 1.3048995e-01 9.5908475e-01]\n",
      " [0.0000000e+00 3.6489934e-01 7.2820175e-01 5.6383824e-01]\n",
      " [3.4451631e-01 3.2356042e-01 6.7727351e-01 4.6283561e-01]\n",
      " [4.0584993e-01 2.7326998e-01 7.2436738e-01 4.0761545e-01]\n",
      " [1.9217622e-01 1.3798702e-01 9.1961360e-01 3.6791307e-01]\n",
      " [4.2431745e-01 8.3035067e-02 5.6431186e-01 3.6638802e-01]\n",
      " [7.6667166e-01 8.4892809e-02 8.5611951e-01 1.7436615e-01]\n",
      " [1.9588412e-01 1.9618785e-01 2.8139147e-01 2.8850463e-01]\n",
      " [1.4302564e-01 2.5575054e-01 2.2537047e-01 3.3796436e-01]\n",
      " [6.7515069e-01 3.7470758e-03 8.3601052e-01 2.7813378e-01]\n",
      " [3.2041255e-01 1.0074295e-01 4.5835826e-01 3.7606609e-01]\n",
      " [3.9181581e-01 1.6560140e-01 7.1772838e-01 2.9984519e-01]\n",
      " [6.0193688e-01 4.0957347e-01 7.3042852e-01 4.9316654e-01]\n",
      " [7.1304297e-01 6.6148691e-02 1.0000000e+00 1.9900796e-01]\n",
      " [1.2371540e-03 7.3434567e-01 1.5058988e-01 9.9576914e-01]\n",
      " [5.8159232e-04 1.9279099e-01 4.7113378e-02 2.9861039e-01]\n",
      " [3.3878928e-01 2.1856359e-01 6.7127985e-01 3.5406074e-01]\n",
      " [2.6635388e-01 8.5818464e-01 9.5582211e-01 9.9782914e-01]\n",
      " [8.6529352e-02 4.1710075e-02 1.6969156e-01 1.2358694e-01]\n",
      " [7.1055216e-01 8.5319385e-02 8.0516118e-01 1.6825686e-01]\n",
      " [8.2819659e-01 9.5693722e-02 9.1327971e-01 1.7856474e-01]\n",
      " [0.0000000e+00 3.7489882e-01 2.7837592e-01 5.2129388e-01]\n",
      " [5.5570489e-01 4.5685768e-01 6.5782255e-01 5.4728663e-01]\n",
      " [4.1152918e-01 5.6969434e-01 6.9824255e-01 7.0778316e-01]\n",
      " [8.7061805e-01 9.5879644e-02 9.5965689e-01 1.7122123e-01]\n",
      " [2.2112887e-01 5.4366225e-01 5.6181157e-01 6.5493470e-01]\n",
      " [6.0547429e-01 2.0170197e-01 6.9688684e-01 2.7818963e-01]]\n",
      "[2 2 2 1 2 2 2 2 2 1 2 2 2 1 1 1 2 2 1 2 2 2 2 2 1 2 2 1 2 2 2 1 2 2 1 2 2\n",
      " 2 2 2 2 1 1 2 2 1 2 2 2 2 2 1 1 1 2 1 1 2 1 1 2 2 2 2 2 2 1 1 2 2 1 2 1 2\n",
      " 1 1 1 1 1 2 2 2 2 1 1 1 1 1 2 1 1 1 1 2 2 2 1 2 1 2]\n",
      "[0.82383895 0.03448268 0.03137072 0.02663617 0.02526489 0.02483376\n",
      " 0.02310277 0.02304687 0.02248335 0.02207552 0.0215863  0.02104339\n",
      " 0.02094681 0.0205331  0.02041939 0.02039515 0.02011134 0.01999148\n",
      " 0.01997722 0.01984379 0.01973056 0.0195432  0.01937923 0.01890215\n",
      " 0.01871025 0.01805654 0.01786214 0.01767753 0.01761798 0.01753878\n",
      " 0.01740637 0.01727906 0.01690699 0.01688125 0.01679339 0.01657019\n",
      " 0.01652449 0.01650908 0.01644443 0.01642693 0.01637547 0.01627057\n",
      " 0.01621761 0.0162014  0.01618279 0.0161059  0.01610491 0.01610046\n",
      " 0.01605339 0.01586759 0.01575496 0.01565531 0.01560998 0.0156059\n",
      " 0.01557779 0.01557378 0.01542217 0.01531303 0.01515306 0.01515243\n",
      " 0.01515181 0.0149469  0.01493189 0.01490024 0.01486516 0.0148154\n",
      " 0.01481025 0.01480528 0.0147575  0.01461672 0.0144411  0.01442245\n",
      " 0.01426902 0.01422367 0.01414415 0.01405462 0.01401179 0.01396349\n",
      " 0.01395867 0.0138946  0.01374905 0.01367657 0.01366976 0.01365414\n",
      " 0.01360989 0.01359101 0.01344807 0.01343844 0.01339201 0.013306\n",
      " 0.01326978 0.01326291 0.01318062 0.01314462 0.01311084 0.01303997\n",
      " 0.01296571 0.01296045 0.01292349 0.01287468]\n"
     ]
    }
   ],
   "source": [
    "for image_path in TEST_IMAGE_PATHS:\n",
    "  print(image_path)\n",
    "  image = Image.open(image_path)\n",
    "  # the array based representation of the image will be used later in order to prepare the\n",
    "  # result image with boxes and labels on it.\n",
    "  image_np = load_image_into_numpy_array(image)\n",
    "  # Expand dimensions since the model expects images to have shape: [1, None, None, 3]\n",
    "  image_np_expanded = np.expand_dims(image_np, axis=0)\n",
    "  # Actual detection.\n",
    "  output_dict = run_inference_for_single_image(image_np, detection_graph)\n",
    "  # Visualization of the results of a detection.\n",
    "  \n",
    "  print(output_dict['detection_boxes'])\n",
    "  print(output_dict['detection_classes'])\n",
    "  print(output_dict['detection_scores'])\n",
    "  break\n",
    "\n",
    "  #vis_util.visualize_boxes_and_labels_on_image_array(\n",
    "  #    image_np,\n",
    "  #    output_dict['detection_boxes'],\n",
    "  #    output_dict['detection_classes'],\n",
    "  #    output_dict['detection_scores'],\n",
    "  #    category_index,\n",
    "  #    instance_masks=output_dict.get('detection_masks'),\n",
    "  #    use_normalized_coordinates=True,\n",
    "  #    line_thickness=8)\n",
    "  #plt.figure(figsize=IMAGE_SIZE)\n",
    "  #plt.imshow(image_np)"
   ]
  }
 ],
 "metadata": {
  "colab": {
   "default_view": {},
   "name": "object_detection_tutorial.ipynb?workspaceId=ronnyvotel:python_inference::citc",
   "provenance": [],
   "version": "0.3.2",
   "views": {}
  },
  "kernelspec": {
   "display_name": "Python 3",
   "language": "python",
   "name": "python3"
  },
  "language_info": {
   "codemirror_mode": {
    "name": "ipython",
    "version": 3
   },
   "file_extension": ".py",
   "mimetype": "text/x-python",
   "name": "python",
   "nbconvert_exporter": "python",
   "pygments_lexer": "ipython3",
   "version": "3.6.8"
  }
 },
 "nbformat": 4,
 "nbformat_minor": 1
}
