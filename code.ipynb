{
 "cells": [
  {
   "cell_type": "code",
   "execution_count": 49,
   "metadata": {},
   "outputs": [],
   "source": [
    "import matplotlib.pyplot as plt\n",
    "import numpy as np\n",
    "import pandas as pd\n",
    "import scipy\n",
    "import scipy.stats\n",
    "import time\n",
    "import math\n",
    "import json\n",
    "import sys\n",
    "from PIL import Image\n",
    "from os import listdir\n",
    "from os.path import isfile, join\n",
    "import pickle\n",
    "import h5py\n",
    "import scipy.misc\n",
    "import seaborn as sns\n",
    "import os\n",
    "import random"
   ]
  },
  {
   "cell_type": "code",
   "execution_count": 52,
   "metadata": {},
   "outputs": [
    {
     "name": "stdout",
     "output_type": "stream",
     "text": [
      "       filename  width  height class  xmin  ymin  xmax  ymax\n",
      "0   dog_632.jpg    854     480   dog   431    78   503   200\n",
      "1  dog_1094.jpg    854     480   dog   406   130   493   239\n",
      "2   dog_946.jpg    854     480   dog     1   137   226   346\n",
      "3   dog_819.jpg    854     480   dog   372   157   408   200\n",
      "4   dog_194.jpg    854     480   dog   479   184   584   237\n",
      "       filename  width  height class  xmin  ymin  xmax  ymax\n",
      "0  cow_1131.jpg    854     480   cow     4   220   273   473\n",
      "1   cow_804.jpg    854     480   cow   230    65   623   470\n",
      "2   cow_804.jpg    854     480   cow   642    74   848   476\n",
      "3  cow_1278.jpg    854     480   cow    60   141   401   420\n",
      "4   cow_612.jpg   1280     720   cow   326    46  1105   511\n"
     ]
    }
   ],
   "source": [
    "cowCsv='givenData/cow_annotation.csv'\n",
    "cowPd=pd.read_csv(cowCsv)\n",
    "dogCsv='givenData/dog_annotation.csv'\n",
    "dogPd=pd.read_csv(dogCsv)\n",
    "dogPdCopy= dogPd.copy()\n",
    "dogPdCopy['filename'] = 'dog_'+dogPdCopy['filename']\n",
    "print(dogPdCopy.head())\n",
    "cowPdCopy= cowPd.copy()\n",
    "cowPdCopy['filename'] = 'cow_'+cowPdCopy['filename']\n",
    "print(cowPdCopy.head())"
   ]
  },
  {
   "cell_type": "code",
   "execution_count": 53,
   "metadata": {},
   "outputs": [
    {
     "name": "stdout",
     "output_type": "stream",
     "text": [
      "(1625, 8)\n",
      "(1137, 8)\n",
      "(488, 8)\n",
      "          filename  width  height class  xmin  ymin  xmax  ymax\n",
      "1137   cow_973.jpg    854     480   cow   234   122   565   263\n",
      "1138  cow_1185.jpg    854     480   cow   510   151   615   324\n",
      "1139    cow_60.jpg    854     480   cow   414   204   556   326\n",
      "1140   cow_884.jpg    854     480   cow   293   138   844   477\n",
      "1141   cow_599.jpg   1280     720   cow   595   253   678   380\n",
      "(1380, 8)\n",
      "(965, 8)\n",
      "(415, 8)\n",
      "         filename  width  height class  xmin  ymin  xmax  ymax\n",
      "965  dog_1094.jpg    854     480   dog   406   130   493   239\n",
      "966   dog_313.jpg    854     480   dog   246   304   326   365\n",
      "967   dog_928.jpg    854     480   dog   166   102   415   480\n",
      "968    dog_98.jpg    854     480   dog   296   247   433   404\n",
      "969   dog_303.jpg    854     480   dog   409   151   480   211\n",
      "(2102, 8)\n",
      "(903, 8)\n"
     ]
    }
   ],
   "source": [
    "trainPercent = 0.7\n",
    "\n",
    "cowPdCopy = cowPdCopy.sample(frac=1).reset_index(drop=True)\n",
    "print(cowPdCopy.shape)\n",
    "rowsTrain=int(cowPdCopy.shape[0]*trainPercent)\n",
    "cowTrainPd = cowPdCopy.iloc[:rowsTrain,:]\n",
    "cowTestPd = cowPdCopy.iloc[rowsTrain:, :]\n",
    "print(cowTrainPd.shape)\n",
    "print(cowTestPd.shape)\n",
    "print(cowTestPd.head())\n",
    "\n",
    "dogPdCopy = dogPdCopy.sample(frac=1).reset_index(drop=True)\n",
    "print(dogPdCopy.shape)\n",
    "rowsTrain=int(dogPdCopy.shape[0]*trainPercent)\n",
    "dogTrainPd = dogPdCopy.iloc[:rowsTrain,:]\n",
    "dogTestPd = dogPdCopy.iloc[rowsTrain:, :]\n",
    "print(dogTrainPd.shape)\n",
    "print(dogTestPd.shape)\n",
    "print(dogTestPd.head())\n",
    "\n",
    "trainDf=pd.concat([dogTrainPd, cowTrainPd], ignore_index=True)\n",
    "trainDf = trainDf.sample(frac=1).reset_index(drop=True)\n",
    "print(trainDf.shape)\n",
    "\n",
    "testDf=pd.concat([dogTestPd, cowTestPd], ignore_index=True)\n",
    "print(testDf.shape)"
   ]
  },
  {
   "cell_type": "code",
   "execution_count": 54,
   "metadata": {},
   "outputs": [],
   "source": [
    "trainDf.to_csv('givenData/train_1.csv',index=False)\n",
    "testDf.to_csv('givenData/test_1.csv',index=False)"
   ]
  }
 ],
 "metadata": {
  "kernelspec": {
   "display_name": "Python 3",
   "language": "python",
   "name": "python3"
  },
  "language_info": {
   "codemirror_mode": {
    "name": "ipython",
    "version": 3
   },
   "file_extension": ".py",
   "mimetype": "text/x-python",
   "name": "python",
   "nbconvert_exporter": "python",
   "pygments_lexer": "ipython3",
   "version": "3.6.8"
  }
 },
 "nbformat": 4,
 "nbformat_minor": 2
}
